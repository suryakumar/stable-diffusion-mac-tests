{
 "cells": [
  {
   "cell_type": "code",
   "execution_count": 16,
   "metadata": {},
   "outputs": [],
   "source": [
    "#inspired from fastai's stable diffusion deep dive lecture:\n",
    "# https://course.fast.ai/Lessons/lesson9.html"
   ]
  },
  {
   "cell_type": "code",
   "execution_count": 17,
   "metadata": {},
   "outputs": [
    {
     "data": {
      "text/plain": [
       "True"
      ]
     },
     "execution_count": 17,
     "metadata": {},
     "output_type": "execute_result"
    }
   ],
   "source": [
    "import gc\n",
    "gc.collect()\n",
    "\n",
    "import os\n",
    "from dotenv import load_dotenv\n",
    "\n",
    "# Load the environment variables from the .env file\n",
    "# Loads the HF_TOKEN into the environment, for accessing HuggingFace\n",
    "load_dotenv()\n",
    "\n",
    "# If your environment already has the HF_TOKEN key loaded, the above step can be ignored"
   ]
  },
  {
   "cell_type": "code",
   "execution_count": 18,
   "metadata": {},
   "outputs": [
    {
     "data": {
      "text/plain": [
       "<torch._C.Generator at 0x1213c3650>"
      ]
     },
     "execution_count": 18,
     "metadata": {},
     "output_type": "execute_result"
    }
   ],
   "source": [
    "import logging\n",
    "from pathlib import Path\n",
    "\n",
    "import matplotlib.pyplot as plt\n",
    "import torch\n",
    "from diffusers import StableDiffusionPipeline\n",
    "from fastcore.all import concat\n",
    "from huggingface_hub import notebook_login\n",
    "from PIL import Image\n",
    "\n",
    "logging.disable(logging.WARNING)\n",
    "\n",
    "\n",
    "#if not (Path.home()/'.cache/huggingface'/'token').exists(): notebook_login()"
   ]
  },
  {
   "cell_type": "code",
   "execution_count": 19,
   "metadata": {},
   "outputs": [
    {
     "data": {
      "application/vnd.jupyter.widget-view+json": {
       "model_id": "24a3aa8c40614c74a6c4cacf4bbd6b12",
       "version_major": 2,
       "version_minor": 0
      },
      "text/plain": [
       "Loading pipeline components...:   0%|          | 0/7 [00:00<?, ?it/s]"
      ]
     },
     "metadata": {},
     "output_type": "display_data"
    }
   ],
   "source": [
    "pipe = StableDiffusionPipeline.from_pretrained(\"CompVis/stable-diffusion-v1-4\", variant=\"fp16\", torch_dtype=torch.float16).to(\"mps\")"
   ]
  },
  {
   "cell_type": "code",
   "execution_count": 20,
   "metadata": {},
   "outputs": [
    {
     "name": "stdout",
     "output_type": "stream",
     "text": [
      "\u001b[1m\u001b[36mmodels--CompVis--stable-diffusion-v1-4\u001b[m\u001b[m\n",
      "\u001b[1m\u001b[36mmodels--deepset--roberta-base-squad2\u001b[m\u001b[m\n",
      "\u001b[1m\u001b[36mmodels--distilbert-base-uncased-finetuned-sst-2-english\u001b[m\u001b[m\n",
      "\u001b[1m\u001b[36mmodels--facebook--detr-resnet-50\u001b[m\u001b[m\n",
      "\u001b[1m\u001b[36mmodels--microsoft--markuplm-base\u001b[m\u001b[m\n",
      "\u001b[1m\u001b[36mmodels--microsoft--markuplm-base-finetuned-websrc\u001b[m\u001b[m\n",
      "\u001b[1m\u001b[36mmodels--timm--resnet50.a1_in1k\u001b[m\u001b[m\n",
      "version.txt\n",
      "version_diffusers_cache.txt\n"
     ]
    }
   ],
   "source": [
    "!ls ~/.cache/huggingface/hub"
   ]
  },
  {
   "cell_type": "code",
   "execution_count": 22,
   "metadata": {},
   "outputs": [],
   "source": [
    "prompt = \"a photograph of an astronaut riding a horse\""
   ]
  }
 ],
 "metadata": {
  "kernelspec": {
   "display_name": "venv_kaggle",
   "language": "python",
   "name": "python3"
  },
  "language_info": {
   "codemirror_mode": {
    "name": "ipython",
    "version": 3
   },
   "file_extension": ".py",
   "mimetype": "text/x-python",
   "name": "python",
   "nbconvert_exporter": "python",
   "pygments_lexer": "ipython3",
   "version": "3.11.7"
  }
 },
 "nbformat": 4,
 "nbformat_minor": 2
}
